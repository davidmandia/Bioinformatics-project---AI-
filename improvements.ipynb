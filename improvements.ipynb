{
 "cells": [
  {
   "cell_type": "code",
   "execution_count": 2,
   "metadata": {},
   "outputs": [
    {
     "name": "stderr",
     "output_type": "stream",
     "text": [
      "WARNING:absl:Compiled the loaded model, but the compiled metrics have yet to be built. `model.compile_metrics` will be empty until you train or evaluate the model.\n"
     ]
    }
   ],
   "source": [
    "from keras.models import load_model\n",
    "\n",
    "# Load the model from the file\n",
    "loaded_model = load_model('my_model.h5')\n",
    "\n",
    "# Use the loaded model for prediction or further training\n"
   ]
  },
  {
   "cell_type": "code",
   "execution_count": 3,
   "metadata": {},
   "outputs": [
    {
     "name": "stdout",
     "output_type": "stream",
     "text": [
      "Nc1ccncc1\n",
      "Nc1ccncc1\n",
      "Nc1ccncc1\n"
     ]
    },
    {
     "name": "stderr",
     "output_type": "stream",
     "text": [
      "[21:01:23] SMILES Parse Error: syntax error while parsing: OH\n",
      "[21:01:23] SMILES Parse Error: Failed parsing SMILES 'OH' for input: 'OH'\n"
     ]
    }
   ],
   "source": [
    "from rdkit import Chem\n",
    "\n",
    "# Example SMILES string\n",
    "smiles = 'Nc1ccncc1'\n",
    "\n",
    "# Convert SMILES string to RDKit molecule object\n",
    "mol = Chem.MolFromSmiles(smiles)\n",
    "\n",
    "# Define transformation rules using simpler SMARTS patterns\n",
    "transformation_rules = [\n",
    "    ('[OH]', 'O'),    # Remove hydroxyl group\n",
    "    ('[O]', 'OH'),    # Add hydroxyl group\n",
    "    ('[C]', 'Cl'),    # Substitution of a carbon with a chlorine atom\n",
    "    ('[C]', 'CC'),    # Add a methyl group\n",
    "]\n",
    "\n",
    "# List to store modified SMILES strings\n",
    "modified_smiles_list = []\n",
    "\n",
    "# Apply each transformation rule to the molecule and store modified SMILES strings\n",
    "for smarts, replacement in transformation_rules:\n",
    "    rule = Chem.MolFromSmarts(smarts)\n",
    "    replacement_mol = Chem.MolFromSmiles(replacement)\n",
    "    if rule is not None and replacement_mol is not None:\n",
    "        modified_mols = Chem.ReplaceSubstructs(mol, rule, replacement_mol, replaceAll=True)\n",
    "        for modified_mol in modified_mols:\n",
    "            modified_smiles = Chem.MolToSmiles(modified_mol)\n",
    "            modified_smiles_list.append(modified_smiles)\n",
    "\n",
    "# Print modified SMILES strings\n",
    "for modified_smiles in modified_smiles_list:\n",
    "    print(modified_smiles)\n"
   ]
  }
 ],
 "metadata": {
  "kernelspec": {
   "display_name": "Python 3",
   "language": "python",
   "name": "python3"
  },
  "language_info": {
   "codemirror_mode": {
    "name": "ipython",
    "version": 3
   },
   "file_extension": ".py",
   "mimetype": "text/x-python",
   "name": "python",
   "nbconvert_exporter": "python",
   "pygments_lexer": "ipython3",
   "version": "3.10.13"
  }
 },
 "nbformat": 4,
 "nbformat_minor": 2
}
